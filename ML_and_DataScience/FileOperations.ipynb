{
 "cells": [
  {
   "cell_type": "code",
   "execution_count": 11,
   "id": "a49800ad",
   "metadata": {},
   "outputs": [],
   "source": [
    "file1=open('myfile.txt', 'w')\n",
    "L=['This is Delhi\\nThis is Bangalore\\n']"
   ]
  },
  {
   "cell_type": "code",
   "execution_count": 12,
   "id": "6e520f2f",
   "metadata": {},
   "outputs": [],
   "source": [
    "file1.write('Hello\\n')\n",
    "file1.writelines(L)\n",
    "file1.close()"
   ]
  },
  {
   "cell_type": "code",
   "execution_count": 13,
   "id": "fd285f19",
   "metadata": {},
   "outputs": [
    {
     "name": "stdout",
     "output_type": "stream",
     "text": [
      "Hello\n",
      "This is Delhi\n",
      "This is Bangalore\n",
      "\n"
     ]
    }
   ],
   "source": [
    "file1=open('myfile.txt', 'r')\n",
    "print(file1.read())"
   ]
  },
  {
   "cell_type": "code",
   "execution_count": 19,
   "id": "58852689",
   "metadata": {},
   "outputs": [
    {
     "name": "stdout",
     "output_type": "stream",
     "text": [
      "output of readline function : \n",
      "Hello\n",
      "\n",
      "output of read(9) function : \n",
      "Hello\n",
      "Thi\n",
      "\n",
      "output of readlines function : \n",
      "['Hello\\n', 'This is Delhi\\n', 'This is Bangalore\\n']\n"
     ]
    }
   ],
   "source": [
    "file1 = open('myfile.txt', 'r+')\n",
    "print('output of readline function : ')\n",
    "print(file1.readline())\n",
    "print('output of read(9) function : ')\n",
    "file1.seek(0)\n",
    "print(file1.read(9))\n",
    "print()\n",
    "print('output of readlines function : ')\n",
    "file1.seek(0)\n",
    "print(file1.readlines())"
   ]
  },
  {
   "cell_type": "code",
   "execution_count": 21,
   "id": "7d2c5897",
   "metadata": {},
   "outputs": [
    {
     "name": "stdout",
     "output_type": "stream",
     "text": [
      "File after append :\n",
      "Hello\n",
      "This is Delhi\n",
      "This is Bangalore\n",
      "It is Tuesday\n",
      "It is Tuesday\n",
      "\n"
     ]
    }
   ],
   "source": [
    "file1 = open('myfile.txt', 'a')\n",
    "file1.write('It is Tuesday\\n')\n",
    "file1.close()\n",
    "print('File after append :')\n",
    "file1 = open('myfile.txt', 'r')\n",
    "print(file1.read())\n",
    "file1.close()"
   ]
  },
  {
   "cell_type": "code",
   "execution_count": 31,
   "id": "e00c58c8",
   "metadata": {},
   "outputs": [
    {
     "name": "stdout",
     "output_type": "stream",
     "text": [
      "After opening file in w+ mode: \n",
      "W+ can write and read\n",
      "\n"
     ]
    }
   ],
   "source": [
    "file1 = open('myfile.txt', 'w+')\n",
    "print('After opening file in w+ mode: ')\n",
    "file1.write(\"W+ can write and read\\n\")\n",
    "file1.seek(0)\n",
    "print(file1.read())\n",
    "file1.close()"
   ]
  },
  {
   "cell_type": "code",
   "execution_count": 33,
   "id": "1d197d67",
   "metadata": {},
   "outputs": [
    {
     "name": "stdout",
     "output_type": "stream",
     "text": [
      "After opening file in r+ mode: \n",
      "W+ can write and read\n",
      "\n",
      "Performing r+ operation\n",
      "\n"
     ]
    }
   ],
   "source": [
    "file1 = open('myfile.txt', 'r+')\n",
    "print('After opening file in r+ mode: ')\n",
    "file1.seek(0)\n",
    "print(file1.read())\n",
    "file1.write('\\nPerforming r+ operation')\n",
    "print(file1.read())"
   ]
  },
  {
   "cell_type": "code",
   "execution_count": null,
   "id": "5a1c3ca4",
   "metadata": {},
   "outputs": [],
   "source": [
    "file1 = open('myfile.txt', 'a+')\n",
    "print('After opening file in a+ mode: ')\n",
    "file1.write\n",
    "print(file1.read())\n",
    "file1.write('\\nPerforming r+ operation')\n",
    "print(file1.read())"
   ]
  }
 ],
 "metadata": {
  "kernelspec": {
   "display_name": "Python 3 (ipykernel)",
   "language": "python",
   "name": "python3"
  },
  "language_info": {
   "codemirror_mode": {
    "name": "ipython",
    "version": 3
   },
   "file_extension": ".py",
   "mimetype": "text/x-python",
   "name": "python",
   "nbconvert_exporter": "python",
   "pygments_lexer": "ipython3",
   "version": "3.11.5"
  }
 },
 "nbformat": 4,
 "nbformat_minor": 5
}
