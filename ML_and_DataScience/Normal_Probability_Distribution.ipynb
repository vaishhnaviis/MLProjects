{
 "cells": [
  {
   "cell_type": "code",
   "execution_count": 1,
   "id": "07f78bf7",
   "metadata": {},
   "outputs": [],
   "source": [
    "from scipy.stats import norm\n",
    "import numpy as np"
   ]
  },
  {
   "cell_type": "code",
   "execution_count": 5,
   "id": "b8b59e35",
   "metadata": {},
   "outputs": [
    {
     "name": "stdout",
     "output_type": "stream",
     "text": [
      "23.576249777925117\n"
     ]
    }
   ],
   "source": [
    "mean, std_dev, tot_students = 78,25,100\n",
    "score = 60\n",
    "z_score= (score-mean)/std_dev\n",
    "prob= norm.cdf(z_score)*100\n",
    "print(prob)"
   ]
  },
  {
   "cell_type": "code",
   "execution_count": 7,
   "id": "29eb1160",
   "metadata": {},
   "outputs": [
    {
     "name": "stdout",
     "output_type": "stream",
     "text": [
      "62.551583472332005\n"
     ]
    }
   ],
   "source": [
    "mean, std_dev, tot_students = 78,25,100\n",
    "score = 70\n",
    "z_score= (score-mean)/std_dev\n",
    "prob= (1-norm.cdf(z_score))*100\n",
    "print(prob)"
   ]
  },
  {
   "cell_type": "code",
   "execution_count": null,
   "id": "fbb92afb",
   "metadata": {},
   "outputs": [],
   "source": [
    "mean, std_dev, tot_students = 78,25,100\n",
    "min_score = 75\n",
    "max_score=85\n",
    "z_min_score= (min_score-mean)/std_dev\n",
    "z_max_score= (max_score-mean)/std_dev\n",
    "min_prob= norm.cdf(z_min_score)*100\n",
    "max_prob=norm.cdf(z_max_score)*100\n",
    "print(prob)"
   ]
  }
 ],
 "metadata": {
  "kernelspec": {
   "display_name": "Python 3 (ipykernel)",
   "language": "python",
   "name": "python3"
  },
  "language_info": {
   "codemirror_mode": {
    "name": "ipython",
    "version": 3
   },
   "file_extension": ".py",
   "mimetype": "text/x-python",
   "name": "python",
   "nbconvert_exporter": "python",
   "pygments_lexer": "ipython3",
   "version": "3.11.5"
  }
 },
 "nbformat": 4,
 "nbformat_minor": 5
}
