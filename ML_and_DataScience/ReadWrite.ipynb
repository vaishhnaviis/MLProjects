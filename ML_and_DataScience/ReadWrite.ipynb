{
 "cells": [
  {
   "cell_type": "code",
   "execution_count": 1,
   "id": "e2ab07d8",
   "metadata": {},
   "outputs": [],
   "source": [
    "file1=open(\"myfile.txt\", 'w')\n",
    "L=['This is delhi\\nThis is paris']"
   ]
  },
  {
   "cell_type": "code",
   "execution_count": 2,
   "id": "67778aa7",
   "metadata": {},
   "outputs": [],
   "source": [
    "file1.write('Hello\\n')\n",
    "file1.writelines(L)\n",
    "file1.close()"
   ]
  },
  {
   "cell_type": "code",
   "execution_count": 24,
   "id": "7663da51",
   "metadata": {
    "scrolled": true
   },
   "outputs": [
    {
     "name": "stdout",
     "output_type": "stream",
     "text": [
      "output of read function is: \n",
      "Hello\n",
      "This is delhi\n",
      "This is paris\n",
      "\n"
     ]
    }
   ],
   "source": [
    "file1=open('myfile.txt','r+')\n",
    "print('output of read function is: ')\n",
    "print(file1.read())\n",
    "print()"
   ]
  },
  {
   "cell_type": "code",
   "execution_count": 25,
   "id": "e1e73fb2",
   "metadata": {},
   "outputs": [
    {
     "name": "stdout",
     "output_type": "stream",
     "text": [
      "output of read function is\n",
      "Hello\n",
      "\n",
      "\n",
      "output of read(9) function is\n",
      "Hello\n",
      "Thi\n",
      "\n",
      "output of readline function is\n",
      "['Hello\\n', 'This is delhi\\n', 'This is paris']\n",
      "\n"
     ]
    }
   ],
   "source": [
    "file1=open('myfile.txt', 'r+')\n",
    "print('output of read function is')\n",
    "print(file1.readline())\n",
    "print()\n",
    "file1.seek(0)\n",
    "print('output of read(9) function is')\n",
    "print(file1.read(9))\n",
    "print()\n",
    "file1.seek(0)\n",
    "print('output of readline function is')\n",
    "print(file1.readlines())\n",
    "print()\n",
    "file1.close()"
   ]
  },
  {
   "cell_type": "code",
   "execution_count": 16,
   "id": "cda8db3e",
   "metadata": {},
   "outputs": [],
   "source": [
    "file1=open('myfile.txt', 'w')\n",
    "L=['This is delhi\\nThis is paris']\n",
    "file1.writelines(L)\n",
    "file1.close()"
   ]
  },
  {
   "cell_type": "code",
   "execution_count": 26,
   "id": "dab9cc7d",
   "metadata": {},
   "outputs": [
    {
     "name": "stdout",
     "output_type": "stream",
     "text": [
      "output after appending\n",
      "['Hello\\n', 'This is delhi\\n', 'This is parisToday \\n']\n",
      "\n"
     ]
    }
   ],
   "source": [
    "file1=open('myfile.txt','a')\n",
    "file1.write('Today \\n')\n",
    "file1.close()\n",
    "file1=open('myfile.txt', 'r')\n",
    "print('output after appending')\n",
    "print(file1.readlines())\n",
    "print()\n",
    "file1.close()"
   ]
  },
  {
   "cell_type": "code",
   "execution_count": 7,
   "id": "d2dbe050",
   "metadata": {},
   "outputs": [
    {
     "name": "stdout",
     "output_type": "stream",
     "text": [
      "output of readlines after writing\n",
      "['Tomorrow\\n']\n"
     ]
    }
   ],
   "source": [
    "file1 = open('myfile.txt', 'w')\n",
    "file1.write('Tomorrow\\n')\n",
    "file1.close()\n",
    "file1=open('myfile.txt', 'r')\n",
    "print('output of readlines after writing')\n",
    "print(file1.readlines())"
   ]
  },
  {
   "cell_type": "code",
   "execution_count": 18,
   "id": "671e5ac9",
   "metadata": {},
   "outputs": [],
   "source": [
    "file1 = open('myfile.txt', 'w+')\n",
    "file1.write('W+ mode\\n')\n",
    "file1.close()\n"
   ]
  },
  {
   "cell_type": "code",
   "execution_count": 21,
   "id": "bc30475d",
   "metadata": {},
   "outputs": [
    {
     "name": "stdout",
     "output_type": "stream",
     "text": [
      "[]\n",
      "after printing\n",
      "['W+ mode\\n', 'a+ mode\\n', 'a+ mode\\n', 'a+ mode\\n']\n"
     ]
    }
   ],
   "source": [
    "file1=open('myfile.txt', 'a+')\n",
    "file1.write('a+ mode\\n')\n",
    "print(file1.readlines())\n",
    "file1=open('myfile.txt', 'r')\n",
    "print('after printing')\n",
    "print(file1.readlines())"
   ]
  },
  {
   "cell_type": "code",
   "execution_count": null,
   "id": "a76a60c7",
   "metadata": {},
   "outputs": [],
   "source": []
  }
 ],
 "metadata": {
  "kernelspec": {
   "display_name": "Python 3 (ipykernel)",
   "language": "python",
   "name": "python3"
  },
  "language_info": {
   "codemirror_mode": {
    "name": "ipython",
    "version": 3
   },
   "file_extension": ".py",
   "mimetype": "text/x-python",
   "name": "python",
   "nbconvert_exporter": "python",
   "pygments_lexer": "ipython3",
   "version": "3.11.5"
  }
 },
 "nbformat": 4,
 "nbformat_minor": 5
}
